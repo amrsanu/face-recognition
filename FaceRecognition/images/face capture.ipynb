{
 "cells": [
  {
   "cell_type": "code",
   "execution_count": 2,
   "metadata": {},
   "outputs": [
    {
     "ename": "SyntaxError",
     "evalue": "invalid syntax (<ipython-input-2-43c953a3c709>, line 11)",
     "output_type": "error",
     "traceback": [
      "\u001b[1;36m  File \u001b[1;32m\"<ipython-input-2-43c953a3c709>\"\u001b[1;36m, line \u001b[1;32m11\u001b[0m\n\u001b[1;33m    raise IOError(Cannot open webcam)\u001b[0m\n\u001b[1;37m                            ^\u001b[0m\n\u001b[1;31mSyntaxError\u001b[0m\u001b[1;31m:\u001b[0m invalid syntax\n"
     ]
    }
   ],
   "source": [
    "import cv2\n",
    "import numpy as np\n",
    "import pickle\n",
    "\n",
    "face_cascade = cv2.CascadeClassifier('datahaarcascadeshaarcascade_frontalface_alt2.xml')\n",
    "    \n",
    "cap = cv2.VideoCapture(0)\n",
    "\n",
    "#check if webcam is opened correctly\n",
    "if not cap.isOpened():\n",
    "    raise IOError(Cannot open webcam)\n",
    "i=0\n",
    "while(True)\n",
    "    #ret is a Boolean value returned by the read function,\n",
    "    #it indicates whether or not the frame was captured successfully\n",
    "    ret, frame = cap.read()\n",
    "    gray = cv2.cvtColor(frame, cv2.COLOR_BGR2GRAY)\n",
    "    faces = face_cascade.detectMultiScale(gray, scaleFactor=1.5, minNeighbors=5)\n",
    "    \n",
    "    print(i)\n",
    "    for (x, y, w, h) in faces\n",
    "        #print(x, y, w, h)\n",
    "        # region of interest .... xywh \n",
    "        roi_gray = gray[yy+h, xx+w]\n",
    "        roi_color = frame[yy+h, xx+w]\n",
    "\n",
    "        \n",
    "        img_item = str(i)+.png\n",
    "        i = i+1\n",
    "        cv2.imwrite(img_item, roi_color)\n",
    "\n",
    "        # Draw a rectangle\n",
    "        color = (255, 0, 0) # BGR 0-255\n",
    "        stroke = 3\n",
    "        width = x+w\n",
    "        height = y+h\n",
    "        cv2.rectangle(frame, (x,y), (width, height),color, stroke)\n",
    "    \n",
    "\n",
    "\n",
    "    #frame = cv2.resize(frame, None, fx = 0.7, fy = 0.7)\n",
    "    cv2.imshow('Input', frame)\n",
    "\n",
    "    c = cv2.waitKey(1)\n",
    "    # ASCII value of Esc is 27.\n",
    "    if c == 27\n",
    "        break\n",
    "\n",
    "cap.release()\n",
    "cv2.destroyAllWindows()\n"
   ]
  },
  {
   "cell_type": "code",
   "execution_count": null,
   "metadata": {},
   "outputs": [],
   "source": []
  }
 ],
 "metadata": {
  "kernelspec": {
   "display_name": "Python 3",
   "language": "python",
   "name": "python3"
  },
  "language_info": {
   "codemirror_mode": {
    "name": "ipython",
    "version": 3
   },
   "file_extension": ".py",
   "mimetype": "text/x-python",
   "name": "python",
   "nbconvert_exporter": "python",
   "pygments_lexer": "ipython3",
   "version": "3.6.1"
  }
 },
 "nbformat": 4,
 "nbformat_minor": 2
}
