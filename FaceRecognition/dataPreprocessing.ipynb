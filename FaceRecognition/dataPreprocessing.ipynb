{
 "cells": [
  {
   "cell_type": "code",
   "execution_count": 2,
   "metadata": {},
   "outputs": [
    {
     "name": "stdout",
     "output_type": "stream",
     "text": [
      "[[-1.0443954 ]\n",
      " [-0.62833914]\n",
      " [-0.20169612]\n",
      " ..., \n",
      " [-1.66131746]\n",
      " [-1.49560897]\n",
      " [-1.66131746]]\n"
     ]
    }
   ],
   "source": [
    "#importing liberaries\n",
    "from sklearn.preprocessing import StandardScaler\n",
    "import pandas as pd\n",
    "\n",
    "#importing the dataset\n",
    "dataset = pd.read_csv('points0.csv')\n",
    "\n",
    "#feature scaling....\n",
    "#if two observation differ much in values..higher variable will dominate the euclidian distance.\n",
    "# so we have to put values in same range.\n",
    "sc_x = StandardScaler()\n",
    "sc_train = sc_x.fit_transform(dataset)\n",
    "#sc_test = sc_x.transform(x_test)\n",
    "print(sc_train)"
   ]
  },
  {
   "cell_type": "code",
   "execution_count": null,
   "metadata": {},
   "outputs": [],
   "source": []
  }
 ],
 "metadata": {
  "kernelspec": {
   "display_name": "Python 3",
   "language": "python",
   "name": "python3"
  },
  "language_info": {
   "codemirror_mode": {
    "name": "ipython",
    "version": 3
   },
   "file_extension": ".py",
   "mimetype": "text/x-python",
   "name": "python",
   "nbconvert_exporter": "python",
   "pygments_lexer": "ipython3",
   "version": "3.6.1"
  }
 },
 "nbformat": 4,
 "nbformat_minor": 2
}
